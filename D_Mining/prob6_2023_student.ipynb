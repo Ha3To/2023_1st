{
 "cells": [
  {
   "cell_type": "markdown",
   "metadata": {
    "id": "2sgkc1ZhCgMZ"
   },
   "source": [
    "# Homework 2 Prob 6. "
   ]
  },
  {
   "cell_type": "markdown",
   "metadata": {
    "id": "nsA-pTCWCgMb"
   },
   "source": [
    "***Double Click here to edit this cell***\n",
    "\n",
    "- Name: 임태호\n",
    "- Student ID: 201903021\n",
    "- Submission date: 2023.04.12"
   ]
  },
  {
   "cell_type": "markdown",
   "metadata": {
    "id": "d1UNU8AQZ0rO"
   },
   "source": []
  },
  {
   "cell_type": "markdown",
   "metadata": {
    "id": "x_h9Xn0TRme-"
   },
   "source": [
    "# You must run this homework code on Google Colab\n",
    "\n",
    "- DON'T run on Google Colab Pro\n",
    "- DON'T use GPU or TPU"
   ]
  },
  {
   "cell_type": "markdown",
   "metadata": {
    "id": "-BvveCJECgMb"
   },
   "source": [
    "## Remark. If any kind of loops including for-loop, while-loops, list comprehension, and other loops are found, you get no points (0점). \n",
    "\n",
    "## Use numpy wherever it is possible. \n"
   ]
  },
  {
   "cell_type": "markdown",
   "metadata": {
    "id": "vFvDEj9yCgMb"
   },
   "source": [
    "## Total: 30 pts"
   ]
  },
  {
   "cell_type": "markdown",
   "metadata": {
    "id": "6VOpdRvNIeEu"
   },
   "source": [
    "### You must run the following two cells to make sure you are running on Google Colab"
   ]
  },
  {
   "cell_type": "code",
   "execution_count": null,
   "metadata": {
    "colab": {
     "base_uri": "https://localhost:8080/"
    },
    "id": "qUvm0lJcHt52",
    "outputId": "3817099b-df94-438f-b327-8793d1a67807"
   },
   "outputs": [
    {
     "name": "stdout",
     "output_type": "stream",
     "text": [
      "processor\t: 0\n",
      "vendor_id\t: GenuineIntel\n",
      "cpu family\t: 6\n",
      "model\t\t: 79\n",
      "model name\t: Intel(R) Xeon(R) CPU @ 2.20GHz\n",
      "stepping\t: 0\n",
      "microcode\t: 0xffffffff\n",
      "cpu MHz\t\t: 2200.142\n",
      "cache size\t: 56320 KB\n",
      "physical id\t: 0\n",
      "siblings\t: 2\n",
      "core id\t\t: 0\n",
      "cpu cores\t: 1\n",
      "apicid\t\t: 0\n",
      "initial apicid\t: 0\n",
      "fpu\t\t: yes\n",
      "fpu_exception\t: yes\n",
      "cpuid level\t: 13\n",
      "wp\t\t: yes\n",
      "flags\t\t: fpu vme de pse tsc msr pae mce cx8 apic sep mtrr pge mca cmov pat pse36 clflush mmx fxsr sse sse2 ss ht syscall nx pdpe1gb rdtscp lm constant_tsc rep_good nopl xtopology nonstop_tsc cpuid tsc_known_freq pni pclmulqdq ssse3 fma cx16 pcid sse4_1 sse4_2 x2apic movbe popcnt aes xsave avx f16c rdrand hypervisor lahf_lm abm 3dnowprefetch invpcid_single ssbd ibrs ibpb stibp fsgsbase tsc_adjust bmi1 hle avx2 smep bmi2 erms invpcid rtm rdseed adx smap xsaveopt arat md_clear arch_capabilities\n",
      "bugs\t\t: cpu_meltdown spectre_v1 spectre_v2 spec_store_bypass l1tf mds swapgs taa mmio_stale_data retbleed\n",
      "bogomips\t: 4400.28\n",
      "clflush size\t: 64\n",
      "cache_alignment\t: 64\n",
      "address sizes\t: 46 bits physical, 48 bits virtual\n",
      "power management:\n",
      "\n",
      "processor\t: 1\n",
      "vendor_id\t: GenuineIntel\n",
      "cpu family\t: 6\n",
      "model\t\t: 79\n",
      "model name\t: Intel(R) Xeon(R) CPU @ 2.20GHz\n",
      "stepping\t: 0\n",
      "microcode\t: 0xffffffff\n",
      "cpu MHz\t\t: 2200.142\n",
      "cache size\t: 56320 KB\n",
      "physical id\t: 0\n",
      "siblings\t: 2\n",
      "core id\t\t: 0\n",
      "cpu cores\t: 1\n",
      "apicid\t\t: 1\n",
      "initial apicid\t: 1\n",
      "fpu\t\t: yes\n",
      "fpu_exception\t: yes\n",
      "cpuid level\t: 13\n",
      "wp\t\t: yes\n",
      "flags\t\t: fpu vme de pse tsc msr pae mce cx8 apic sep mtrr pge mca cmov pat pse36 clflush mmx fxsr sse sse2 ss ht syscall nx pdpe1gb rdtscp lm constant_tsc rep_good nopl xtopology nonstop_tsc cpuid tsc_known_freq pni pclmulqdq ssse3 fma cx16 pcid sse4_1 sse4_2 x2apic movbe popcnt aes xsave avx f16c rdrand hypervisor lahf_lm abm 3dnowprefetch invpcid_single ssbd ibrs ibpb stibp fsgsbase tsc_adjust bmi1 hle avx2 smep bmi2 erms invpcid rtm rdseed adx smap xsaveopt arat md_clear arch_capabilities\n",
      "bugs\t\t: cpu_meltdown spectre_v1 spectre_v2 spec_store_bypass l1tf mds swapgs taa mmio_stale_data retbleed\n",
      "bogomips\t: 4400.28\n",
      "clflush size\t: 64\n",
      "cache_alignment\t: 64\n",
      "address sizes\t: 46 bits physical, 48 bits virtual\n",
      "power management:\n",
      "\n"
     ]
    }
   ],
   "source": [
    "!cat /proc/cpuinfo"
   ]
  },
  {
   "cell_type": "code",
   "execution_count": null,
   "metadata": {
    "colab": {
     "base_uri": "https://localhost:8080/"
    },
    "id": "7D_PG8-KIP_k",
    "outputId": "0b5eb873-3eb5-477e-b739-67bc1af4b808"
   },
   "outputs": [
    {
     "name": "stdout",
     "output_type": "stream",
     "text": [
      "MemTotal:       13297192 kB\n",
      "MemFree:         8763060 kB\n",
      "MemAvailable:   12427480 kB\n",
      "Buffers:          155800 kB\n",
      "Cached:          3679124 kB\n",
      "SwapCached:            0 kB\n",
      "Active:           348280 kB\n",
      "Inactive:        3961852 kB\n",
      "Active(anon):       1068 kB\n",
      "Inactive(anon):   466332 kB\n",
      "Active(file):     347212 kB\n",
      "Inactive(file):  3495520 kB\n",
      "Unevictable:           0 kB\n",
      "Mlocked:               0 kB\n",
      "SwapTotal:             0 kB\n",
      "SwapFree:              0 kB\n",
      "Dirty:             14704 kB\n",
      "Writeback:             0 kB\n",
      "AnonPages:        475444 kB\n",
      "Mapped:           249900 kB\n",
      "Shmem:              1348 kB\n",
      "KReclaimable:     126280 kB\n",
      "Slab:             155536 kB\n",
      "SReclaimable:     126280 kB\n",
      "SUnreclaim:        29256 kB\n",
      "KernelStack:        4208 kB\n",
      "PageTables:         6168 kB\n",
      "NFS_Unstable:          0 kB\n",
      "Bounce:                0 kB\n",
      "WritebackTmp:          0 kB\n",
      "CommitLimit:     6648596 kB\n",
      "Committed_AS:    2639692 kB\n",
      "VmallocTotal:   34359738367 kB\n",
      "VmallocUsed:        9060 kB\n",
      "VmallocChunk:          0 kB\n",
      "Percpu:             1328 kB\n",
      "HardwareCorrupted:     0 kB\n",
      "AnonHugePages:         0 kB\n",
      "ShmemHugePages:        0 kB\n",
      "ShmemPmdMapped:        0 kB\n",
      "FileHugePages:         0 kB\n",
      "FilePmdMapped:         0 kB\n",
      "CmaTotal:              0 kB\n",
      "CmaFree:               0 kB\n",
      "HugePages_Total:       0\n",
      "HugePages_Free:        0\n",
      "HugePages_Rsvd:        0\n",
      "HugePages_Surp:        0\n",
      "Hugepagesize:       2048 kB\n",
      "Hugetlb:               0 kB\n",
      "DirectMap4k:       88888 kB\n",
      "DirectMap2M:     4102144 kB\n",
      "DirectMap1G:    11534336 kB\n"
     ]
    }
   ],
   "source": [
    "!cat /proc/meminfo"
   ]
  },
  {
   "cell_type": "markdown",
   "metadata": {
    "id": "5ncLWB0XCgMh"
   },
   "source": [
    "## Problem 6 (20 pts)\n",
    "\n",
    "- **find_k_nearest_index_big** returns the index of the k-nearest for 50 million data\n",
    "- We want to time the execution\n",
    "- *Do not use sklearn, scipy or any module computing k-nearest points directly*\n",
    "- Use numpy functions only"
   ]
  },
  {
   "cell_type": "code",
   "execution_count": null,
   "metadata": {
    "id": "Y7dnMU8zCgMh"
   },
   "outputs": [],
   "source": [
    "# import part here\n",
    "import numpy as np\n",
    "\n",
    "def find_k_nearest_index_big(data, center, k):\n",
    "    n, d = data.shape\n",
    "\n",
    "    if n <= 10000:  # base case\n",
    "        distances = np.sum((data - center) ** 2, axis=1)\n",
    "        indices = np.argpartition(distances, k)[:k]\n",
    "        return indices\n",
    "\n",
    "    # divide the data into two halves\n",
    "    half = n // 2\n",
    "    left_data, right_data = data[:half], data[half:]\n",
    "\n",
    "    # find the k-nearest neighbors in the left and right halves\n",
    "    left_indices = find_k_nearest_index_big(left_data, center, k)\n",
    "    right_indices = find_k_nearest_index_big(right_data, center, k)\n",
    "\n",
    "    # merge the indices and recompute the distances\n",
    "    indices = np.concatenate([left_indices, right_indices])\n",
    "    distances = np.sum((data[indices] - center) ** 2, axis=1)\n",
    "    indices = indices[np.argpartition(distances, k)[:k]]\n",
    "\n",
    "    return indices\n",
    "\n"
   ]
  },
  {
   "cell_type": "code",
   "execution_count": null,
   "metadata": {
    "colab": {
     "base_uri": "https://localhost:8080/"
    },
    "id": "QqGKrOspCgMh",
    "outputId": "fa476415-d1df-403f-cf5e-4b351bbc047b"
   },
   "outputs": [
    {
     "name": "stdout",
     "output_type": "stream",
     "text": [
      "[1172  351 5821 2067 4751]\n",
      "Total time taken : 3.3390402793884277 seconds\n",
      "My point is 10\n"
     ]
    }
   ],
   "source": [
    "# DO NOT EDIT THIS CELL\n",
    "\n",
    "import time\n",
    "\n",
    "np.random.seed(100)\n",
    "data = np.random.randn(30000000,20)   # 30 million data\n",
    "k = 5\n",
    "center = np.random.randn(20)\n",
    "start = time.time()\n",
    "print(find_k_nearest_index_big(data, center, k))\n",
    "end = time.time()\n",
    "\n",
    "lapse = end - start\n",
    "total = 10\n",
    "weight = 1.5\n",
    "grace = 20\n",
    "my_point = int(total / (weight ** (lapse // grace)))\n",
    "print(f'Total time taken : {lapse} seconds')\n",
    "print(f'My point is {my_point}')"
   ]
  },
  {
   "cell_type": "markdown",
   "metadata": {
    "id": "kyCXerWZCgMi"
   },
   "source": [
    "**Your time must be around:**\n",
    "```\n",
    "[ _____________________________________________ ]\n",
    "Total time taken : 5.2564404010772705 seconds\n",
    "My point is 10\n",
    "```"
   ]
  },
  {
   "cell_type": "code",
   "execution_count": null,
   "metadata": {
    "colab": {
     "base_uri": "https://localhost:8080/"
    },
    "id": "Zs-W1WoICgMi",
    "outputId": "7c69b296-bb5a-409e-cffa-b9ba710aedee"
   },
   "outputs": [
    {
     "name": "stdout",
     "output_type": "stream",
     "text": [
      "[5488 2097 1964 3045 3254]\n",
      "Total time taken : 8.585269212722778 seconds\n",
      "My point is 10\n"
     ]
    }
   ],
   "source": [
    "# DO NOT EDIT THIS CELL\n",
    "\n",
    "import time\n",
    "\n",
    "np.random.seed(100)\n",
    "data = np.random.randn(50000000,20)   # 50 million data\n",
    "k = 5\n",
    "center = np.random.randn(20)\n",
    "start = time.time()\n",
    "print(find_k_nearest_index_big(data, center, k))\n",
    "end = time.time()\n",
    "\n",
    "lapse = end - start\n",
    "total = 10\n",
    "weight = 1.5\n",
    "grace = 20\n",
    "my_point = int(total / (weight ** (lapse // grace)))\n",
    "print(f'Total time taken : {lapse} seconds')\n",
    "print(f'My point is {my_point}')"
   ]
  },
  {
   "cell_type": "markdown",
   "metadata": {
    "id": "yQxxs_MGCgMi"
   },
   "source": [
    "**Your time must be around:**\n",
    "```\n",
    "[ _____________________________________________ ]\n",
    "Total time taken : 9.744923830032349 seconds\n",
    "My point is 10\n",
    "```"
   ]
  },
  {
   "cell_type": "code",
   "execution_count": null,
   "metadata": {
    "colab": {
     "base_uri": "https://localhost:8080/"
    },
    "id": "rtOBPvvQPIJo",
    "outputId": "a1b9a5a5-baa5-42b8-ad2b-f8beca43b83e"
   },
   "outputs": [
    {
     "name": "stdout",
     "output_type": "stream",
     "text": [
      "[5248  836 7953 8414   97]\n",
      "Total time taken : 14.864856719970703 seconds\n",
      "My point is 10\n"
     ]
    }
   ],
   "source": [
    "# DO NOT EDIT THIS CELL\n",
    "\n",
    "import time\n",
    "\n",
    "np.random.seed(100)\n",
    "data = np.random.randn(70000000,20)   # 70 million data\n",
    "k = 5\n",
    "center = np.random.randn(20)\n",
    "start = time.time()\n",
    "print(find_k_nearest_index_big(data, center, k))\n",
    "end = time.time()\n",
    "\n",
    "lapse = end - start\n",
    "total = 10\n",
    "weight = 1.5\n",
    "grace = 40\n",
    "my_point = int(total / (weight ** (lapse // grace)))\n",
    "print(f'Total time taken : {lapse} seconds')\n",
    "print(f'My point is {my_point}')"
   ]
  },
  {
   "cell_type": "markdown",
   "metadata": {
    "id": "nJ_PoV4eQN8V"
   },
   "source": [
    "**Your time must be around:**\n",
    "```\n",
    "[ _____________________________________________ ]\n",
    "Total time taken : 20.60638999938965 seconds\n",
    "My point is 10\n",
    "```"
   ]
  },
  {
   "cell_type": "markdown",
   "metadata": {
    "id": "OClOvLcHCgMi"
   },
   "source": [
    "## Ethics:\n",
    "If you cheat, you will get negatgive of the total points.\n",
    "If the homework total is 22 and you cheat, you get -22."
   ]
  },
  {
   "cell_type": "markdown",
   "metadata": {
    "id": "KxhkWrPYCgMi"
   },
   "source": [
    "## What to submit\n",
    "\n",
    "- Run **all cells** after restarting the kernel\n",
    "- Goto \"File -> Print Preview\"\n",
    "- Print the page as pdf\n",
    "- Submit the pdf file in google classroom\n",
    "- Pdf file name must be in a form of: homework_2_prob6_홍길동_202300001.pdf\n",
    "- No late homeworks will be accepted\n",
    "- Your homework will be graded on the basis of correctness, performance, and programming skills"
   ]
  }
 ],
 "metadata": {
  "colab": {
   "provenance": []
  },
  "hide_input": false,
  "kernelspec": {
   "display_name": "Python 3 (ipykernel)",
   "language": "python",
   "name": "python3"
  },
  "language_info": {
   "codemirror_mode": {
    "name": "ipython",
    "version": 3
   },
   "file_extension": ".py",
   "mimetype": "text/x-python",
   "name": "python",
   "nbconvert_exporter": "python",
   "pygments_lexer": "ipython3",
   "version": "3.10.7"
  },
  "varInspector": {
   "cols": {
    "lenName": 16,
    "lenType": 16,
    "lenVar": 40
   },
   "kernels_config": {
    "python": {
     "delete_cmd_postfix": "",
     "delete_cmd_prefix": "del ",
     "library": "var_list.py",
     "varRefreshCmd": "print(var_dic_list())"
    },
    "r": {
     "delete_cmd_postfix": ") ",
     "delete_cmd_prefix": "rm(",
     "library": "var_list.r",
     "varRefreshCmd": "cat(var_dic_list()) "
    }
   },
   "types_to_exclude": [
    "module",
    "function",
    "builtin_function_or_method",
    "instance",
    "_Feature"
   ],
   "window_display": false
  }
 },
 "nbformat": 4,
 "nbformat_minor": 1
}
