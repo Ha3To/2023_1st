{
 "cells": [
  {
   "cell_type": "markdown",
   "metadata": {
    "id": "T7gdRJMsa8Pq"
   },
   "source": [
    "# Homework 3-P. Perceptron"
   ]
  },
  {
   "cell_type": "markdown",
   "metadata": {
    "id": "JToBS_xfa8Pt"
   },
   "source": [
    "***Double Click here to edit this cell***\n",
    "\n",
    "- Name: 임태호\n",
    "- Student ID: 201903021\n",
    "- Submission date: 2023.05.09"
   ]
  },
  {
   "cell_type": "markdown",
   "metadata": {
    "id": "hX8tBmGja8Pt"
   },
   "source": [
    "## Do this homework on anaconda\n",
    "## Homework Purpose: Learn SGD and Perceptron"
   ]
  },
  {
   "cell_type": "markdown",
   "metadata": {
    "id": "vQFN_a2ia8Pt"
   },
   "source": [
    "## Perceptron model"
   ]
  },
  {
   "cell_type": "markdown",
   "metadata": {
    "id": "7a4rdjhRa8Pu"
   },
   "source": [
    "![image-3.png](attachment:image-3.png)"
   ]
  },
  {
   "cell_type": "markdown",
   "metadata": {
    "id": "wowgJh3Aa8Pu"
   },
   "source": [
    "### The net input of the perceptron including the bias"
   ]
  },
  {
   "cell_type": "markdown",
   "metadata": {
    "id": "sxp5UHuaa8Pu"
   },
   "source": [
    "![image-2.png](attachment:image-2.png)"
   ]
  },
  {
   "cell_type": "markdown",
   "metadata": {
    "id": "S0rfL7cWa8Pu"
   },
   "source": [
    "#### Remark:\n",
    "\n",
    "$$\\sum_{i=1}^{m} w_i x_i + b = b + w_1 x_1 + \\cdots + w_m x_m = (w_0, w_1, \\cdots, w_m) \\cdot (1, x_1, \\cdots, x_m)$$\n",
    "where $w_0 = b$"
   ]
  },
  {
   "cell_type": "markdown",
   "metadata": {
    "id": "uNeSuVRSa8Pu"
   },
   "source": [
    "### Vector form of the net input"
   ]
  },
  {
   "cell_type": "markdown",
   "metadata": {
    "id": "WcZqKZyja8Pv"
   },
   "source": [
    "![image.png](attachment:image.png)"
   ]
  },
  {
   "cell_type": "markdown",
   "metadata": {
    "id": "rnMA8R8Ra8Pv"
   },
   "source": [
    "### The perceptron fires if and only if the net input is non-negative"
   ]
  },
  {
   "cell_type": "markdown",
   "metadata": {
    "id": "wbQ3w2mAa8Pv"
   },
   "source": [
    "![image.png](attachment:image.png)"
   ]
  },
  {
   "cell_type": "markdown",
   "metadata": {
    "id": "clVkTjgLa8Pv"
   },
   "source": [
    "### Perceptron as a Binary Classifier\n",
    "\n",
    "- A linear classifier uses lines to classify data points—any object on one side of the line is part of one class and any object on the other side is part of the other class. \n",
    "- A successful linear classifier could use $H_1$ or $H_2$ to discriminate between the two classes, whereas $H_3$ would be a poor decision boundary.\n",
    "- $H_1$ or $H_2$ are called a separating hyperplane"
   ]
  },
  {
   "cell_type": "markdown",
   "metadata": {
    "id": "XRXE82EPa8Pv"
   },
   "source": [
    "![image-2.png](attachment:image-2.png)"
   ]
  },
  {
   "cell_type": "markdown",
   "metadata": {
    "id": "AGOOZsq0a8Pv"
   },
   "source": [
    "### Geometric Interpretation of a separating hyperplane"
   ]
  },
  {
   "cell_type": "markdown",
   "metadata": {
    "id": "lVPTGklKa8Pv"
   },
   "source": [
    "![image-3.png](attachment:image-3.png)"
   ]
  },
  {
   "cell_type": "markdown",
   "metadata": {
    "id": "M_6yLxpCa8Pv"
   },
   "source": [
    "### When a data is miclassified, we move w to a certain direction\n",
    "\n",
    "- Which direction? How much should we move? Figure it out"
   ]
  },
  {
   "cell_type": "markdown",
   "metadata": {
    "id": "7Xl3zy4Ka8Pw"
   },
   "source": [
    "![image-2.png](attachment:image-2.png)"
   ]
  },
  {
   "cell_type": "markdown",
   "metadata": {
    "id": "zsspSKC7a8Pw"
   },
   "source": [
    "## Remark: gradient_descent.py, linear_algebra.py must be in the folder having this notebook file"
   ]
  },
  {
   "cell_type": "code",
   "execution_count": 1,
   "metadata": {
    "id": "aCjlLtFVa8Pw"
   },
   "outputs": [],
   "source": [
    "# run this cell\n",
    "from gradient_descent import *\n",
    "from linear_algebra import *"
   ]
  },
  {
   "cell_type": "markdown",
   "metadata": {
    "id": "RA9Lo0tda8Pw"
   },
   "source": [
    "## Problem 1 (30 pts)\n",
    "\n",
    "- We want to implement a simple neural network called ```Perceptron```.\n",
    "- We will use ```minimize_stochastic``` to optimize the network"
   ]
  },
  {
   "cell_type": "markdown",
   "metadata": {
    "id": "Hyltiv4qa8Pw"
   },
   "source": [
    "### The code of SGD\n",
    "```python\n",
    "def in_random_order(data):\n",
    "    \"\"\"generator that returns the elements of data in random order\"\"\"\n",
    "    indexes = [i for i, _ in enumerate(data)]  # create a list of indexes\n",
    "    random.shuffle(indexes)                    # shuffle them\n",
    "    for i in indexes:                          # return the data in that order\n",
    "        yield data[i]\n",
    "        \n",
    "def minimize_stochastic(target_fn, gradient_fn, x, y, theta_0, alpha_0=0.01):\n",
    "\n",
    "    data = list(zip(x, y))\n",
    "    theta = theta_0\n",
    "    data = list(zip(x, y))\n",
    "    theta = theta_0                             # initial guess\n",
    "    alpha = alpha_0                             # initial step size\n",
    "    min_theta, min_value = None, float(\"inf\")   # the minimum so far\n",
    "    iterations_with_no_improvement = 0  \n",
    "\n",
    "    # if we ever go 100 iterations with no improvement, stop\n",
    "    while iterations_with_no_improvement < 100:\n",
    "        count += 1\n",
    "        value = sum( target_fn(x_i, y_i, theta) for x_i, y_i in data )\n",
    "\n",
    "        if value < min_value:\n",
    "            # if we've found a new minimum, remember it\n",
    "            # and go back to the original step size\n",
    "            min_theta, min_value = theta, value\n",
    "            iterations_with_no_improvement = 0\n",
    "            alpha = alpha_0\n",
    "        else:\n",
    "            # otherwise we're not improving, so try shrinking the step size\n",
    "            iterations_with_no_improvement += 1\n",
    "            alpha *= 0.9\n",
    "\n",
    "        # and take a gradient step for each of the data points\n",
    "        for x_i, y_i in in_random_order(data):\n",
    "            gradient_i = gradient_fn(x_i, y_i, theta)\n",
    "            theta = vector_subtract(theta, scalar_multiply(alpha, gradient_i))\n",
    "            \n",
    "    min_theta = theta\n",
    "    \n",
    "    return min_theta\n",
    "```"
   ]
  },
  {
   "cell_type": "markdown",
   "metadata": {
    "id": "d4rfbL8Aa8Px"
   },
   "source": [
    "### You should define an error function and a gradient function for perceptron:\n",
    "### Remark: ONE or TWO lines for an error function and a gradient function are enough. If the number of lines > 2, you get a penalty"
   ]
  },
  {
   "cell_type": "markdown",
   "metadata": {
    "id": "kI6SIWjPa8Px"
   },
   "source": [
    "### Define your error function here:"
   ]
  },
  {
   "cell_type": "code",
   "execution_count": 90,
   "metadata": {
    "id": "l46CUkwia8Px"
   },
   "outputs": [],
   "source": [
    "# YOUR CODE MUST BE HERE\n",
    "\n",
    "def perceptron_error(x_i, y_i, w):\n",
    "    return max(0, -y_i * dot(w, x_i))"
   ]
  },
  {
   "cell_type": "markdown",
   "metadata": {
    "id": "NPlteKAQa8Px"
   },
   "source": [
    "### Define your gradient function here:"
   ]
  },
  {
   "cell_type": "code",
   "execution_count": 105,
   "metadata": {
    "id": "nWE4bQ6va8Px"
   },
   "outputs": [],
   "source": [
    "# YOUR CODE MUST BE HERE\n",
    "\n",
    "def perceptron_error_gradient(x_i, y_i, w):\n",
    "    if perceptron_error(x_i, y_i, w) == 0:\n",
    "        return [0 for xi in x_i]\n",
    "    else:\n",
    "        return [-y_i * xi for xi in x_i]"
   ]
  },
  {
   "cell_type": "markdown",
   "metadata": {
    "id": "OXtMDAHBa8Px"
   },
   "source": [
    "### Define a function to shade a decision boundary\n",
    "\n",
    "- The region of $w_1 \\cdot x_1 + w_2 \\cdot x_2 + w_0 \\ge 0$  are shaded as red; otherwise shaded as blue\n",
    "- ```x_min, x_max, y_min, y_max``` defines a shading area\n",
    "- The resulting shading and plotting must be very similar as shown in the given answer images"
   ]
  },
  {
   "cell_type": "code",
   "execution_count": 113,
   "metadata": {
    "id": "CHQJlwS-a8Px"
   },
   "outputs": [],
   "source": [
    "# YOUR CODE MUST BE HERE\n",
    "\n",
    "def shade_decision_region(X, y, w, x_min, x_max, y_min, y_max):\n",
    "    xx, yy = np.meshgrid(np.linspace(x_min, x_max, 100), np.linspace(y_min, y_max, 100))\n",
    "    grid = np.c_[np.ones(xx.ravel().shape), xx.ravel(), yy.ravel()]\n",
    "    pred = np.sign(np.dot(grid, w))\n",
    "    pred = pred.reshape(xx.shape)\n",
    "    plt.contourf(xx, yy, pred, cmap=plt.cm.coolwarm, alpha=.3)\n",
    "    plt.scatter([X[i][1] for i in range(len(X)) if y[i] == 1], \n",
    "                [X[i][2] for i in range(len(X)) if y[i] == 1], \n",
    "                color='r')\n",
    "    plt.scatter([X[i][1] for i in range(len(X)) if y[i] == -1], \n",
    "                [X[i][2] for i in range(len(X)) if y[i] == -1], \n",
    "                color='b')\n",
    "    if(x_min >= -1 and y_min >= -1 and x_max <= 2 and y_max <= 2):\n",
    "          plt.xticks(np.arange(-1, 3))\n",
    "          plt.yticks([-1.0, -0.5, 0, 0.5, 1.0, 1.5, 2.0])\n",
    "    else:\n",
    "          plt.xlim(x_min-1, x_max+1)\n",
    "          plt.ylim(y_min, y_max)\n",
    "    plt.axis('equal')\n",
    "    plt.show()"
   ]
  },
  {
   "cell_type": "markdown",
   "metadata": {
    "id": "aCMmd0Kba8Px"
   },
   "source": [
    "### Test Case 1: OR"
   ]
  },
  {
   "cell_type": "code",
   "execution_count": 114,
   "metadata": {
    "colab": {
     "base_uri": "https://localhost:8080/",
     "height": 435
    },
    "id": "_e17zFXea8Px",
    "outputId": "f7b5176f-a1fe-47a7-f5c8-246f07dfba75",
    "scrolled": true
   },
   "outputs": [
    {
     "data": {
      "image/png": "[encoded data removed]",
      "text/plain": [
       "<Figure size 640x480 with 1 Axes>"
      ]
     },
     "metadata": {},
     "output_type": "display_data"
    }
   ],
   "source": [
    "# DO NOT EDIT THIS CELL\n",
    "# RUN THIS CELL\n",
    "\n",
    "import matplotlib.pyplot as plt\n",
    "import numpy as np \n",
    "\n",
    "X = [[1,0,0], [1,0,1], [1,1,0], [1,1,1]]\n",
    "y = [-1, 1, 1, 1]\n",
    "\n",
    "random.seed(2)\n",
    "theta = [1, random.random(),random.random()]\n",
    "\n",
    "w = minimize_stochastic(perceptron_error,\n",
    "                        perceptron_error_gradient,\n",
    "                        X,\n",
    "                        y,\n",
    "                        theta,\n",
    "                        0.1)\n",
    "\n",
    "shade_decision_region(X, y, w, x_min=-1, x_max=2, y_min=-1, y_max=2)"
   ]
  },
  {
   "cell_type": "markdown",
   "metadata": {
    "id": "NgRma9CLa8Px"
   },
   "source": [
    "#### Your output must be similar to the following:\n",
    "\n",
    "![image.png](attachment:image.png)"
   ]
  },
  {
   "cell_type": "markdown",
   "metadata": {
    "id": "fFFyuuxua8Px"
   },
   "source": [
    "### Test Case 2: AND"
   ]
  },
  {
   "cell_type": "code",
   "execution_count": 115,
   "metadata": {
    "colab": {
     "base_uri": "https://localhost:8080/",
     "height": 435
    },
    "id": "TigDZNAUa8Px",
    "outputId": "06705ee5-a8c5-4f11-ab25-ea67707d7a16",
    "scrolled": false
   },
   "outputs": [
    {
     "data": {
      "image/png": "[encoded data removed]",
      "text/plain": [
       "<Figure size 640x480 with 1 Axes>"
      ]
     },
     "metadata": {},
     "output_type": "display_data"
    }
   ],
   "source": [
    "# DO NOT EDIT THIS CELL\n",
    "# RUN THIS CELL\n",
    "\n",
    "import matplotlib.pyplot as plt\n",
    "import numpy as np \n",
    "\n",
    "X = [[1,0,0], [1,0,1], [1,1,0], [1,1,1]]\n",
    "y = [-1, -1, -1, 1]\n",
    "\n",
    "# choose random value to start\n",
    "random.seed(2)\n",
    "theta = [1, random.random(),random.random()]\n",
    "\n",
    "w = minimize_stochastic(perceptron_error,\n",
    "                        perceptron_error_gradient,\n",
    "                        X,\n",
    "                        y,\n",
    "                        theta,\n",
    "                        0.1)\n",
    "\n",
    "shade_decision_region(X, y, w, x_min=-1, x_max=2, y_min=-1, y_max=2)"
   ]
  },
  {
   "cell_type": "markdown",
   "metadata": {
    "id": "CvJ1LOGIa8Py"
   },
   "source": [
    "#### Your output must be similar to the following:\n",
    "\n",
    "![image.png](attachment:image.png)"
   ]
  },
  {
   "cell_type": "markdown",
   "metadata": {
    "id": "qQ1X3HUla8Py"
   },
   "source": [
    "### Test Case 3: XOR"
   ]
  },
  {
   "cell_type": "code",
   "execution_count": 116,
   "metadata": {
    "colab": {
     "base_uri": "https://localhost:8080/",
     "height": 435
    },
    "id": "yaD8zGzJa8Py",
    "outputId": "8f9f3a38-9c3c-46f5-a07c-a70778d72a41",
    "scrolled": false
   },
   "outputs": [
    {
     "data": {
      "image/png": "[encoded data removed]",
      "text/plain": [
       "<Figure size 640x480 with 1 Axes>"
      ]
     },
     "metadata": {},
     "output_type": "display_data"
    }
   ],
   "source": [
    "# DO NOT EDIT THIS CELL\n",
    "# RUN THIS CELL\n",
    "\n",
    "import matplotlib.pyplot as plt\n",
    "import numpy as np \n",
    "\n",
    "X = [[1,0,0], [1,0,1], [1,1,0], [1,1,1]]\n",
    "y = [-1, 1, 1, -1]\n",
    "\n",
    "# choose random value to start\n",
    "random.seed(2)\n",
    "theta = [1, random.random(),random.random()]\n",
    "\n",
    "w = minimize_stochastic(perceptron_error,\n",
    "                        perceptron_error_gradient,\n",
    "                        X,\n",
    "                        y,\n",
    "                        theta,\n",
    "                        0.1)\n",
    "\n",
    "shade_decision_region(X, y, w, x_min=-1, x_max=2, y_min=-1, y_max=2)"
   ]
  },
  {
   "cell_type": "markdown",
   "metadata": {
    "id": "VKWGFqkNa8Py"
   },
   "source": [
    "#### Your output must be similar to the following:\n",
    "\n",
    "![image.png](attachment:image.png)"
   ]
  },
  {
   "cell_type": "markdown",
   "metadata": {
    "id": "P9TQXdT1a8Py"
   },
   "source": [
    "### Test Case 4: Right"
   ]
  },
  {
   "cell_type": "code",
   "execution_count": 117,
   "metadata": {
    "colab": {
     "base_uri": "https://localhost:8080/",
     "height": 435
    },
    "id": "XqAsXYSLa8Py",
    "outputId": "4b39d029-31ea-4bf2-e817-61cccd554591",
    "scrolled": true
   },
   "outputs": [
    {
     "data": {
      "image/png": "[encoded data removed]",
      "text/plain": [
       "<Figure size 640x480 with 1 Axes>"
      ]
     },
     "metadata": {},
     "output_type": "display_data"
    }
   ],
   "source": [
    "# DO NOT EDIT THIS CELL\n",
    "# RUN THIS CELL\n",
    "\n",
    "import matplotlib.pyplot as plt\n",
    "import numpy as np \n",
    "\n",
    "X = [[1,0,0], [1,0,1], [1,1,0], [1,1,1]]\n",
    "y = [-1, -1, 1, 1]\n",
    "\n",
    "# choose random value to start\n",
    "random.seed(2)\n",
    "theta = [1, random.random(),random.random()]\n",
    "\n",
    "w = minimize_stochastic(perceptron_error,\n",
    "                        perceptron_error_gradient,\n",
    "                        X,\n",
    "                        y,\n",
    "                        theta,\n",
    "                        0.1)\n",
    "\n",
    "shade_decision_region(X, y, w, x_min=-1, x_max=2, y_min=-1, y_max=2)"
   ]
  },
  {
   "cell_type": "markdown",
   "metadata": {
    "id": "_x-pnBvCa8Py"
   },
   "source": [
    "#### Your output must be similar to the following:\n",
    "\n",
    "![image.png](attachment:image.png)"
   ]
  },
  {
   "cell_type": "markdown",
   "metadata": {
    "id": "O_5fOhXea8Py"
   },
   "source": [
    "### Test Case 5: Upper"
   ]
  },
  {
   "cell_type": "code",
   "execution_count": 118,
   "metadata": {
    "colab": {
     "base_uri": "https://localhost:8080/",
     "height": 435
    },
    "id": "kLismBV9a8Py",
    "outputId": "a60f97fd-2460-4f47-8c7e-5e1ce62d6abb",
    "scrolled": true
   },
   "outputs": [
    {
     "data": {
      "image/png": "[encoded data removed]",
      "text/plain": [
       "<Figure size 640x480 with 1 Axes>"
      ]
     },
     "metadata": {},
     "output_type": "display_data"
    }
   ],
   "source": [
    "# DO NOT EDIT THIS CELL\n",
    "# RUN THIS CELL\n",
    "\n",
    "import matplotlib.pyplot as plt\n",
    "import numpy as np \n",
    "\n",
    "X = [[1,0,0], [1,0,1], [1,1,0], [1,1,1]]\n",
    "y = [-1, 1, -1, 1]\n",
    "\n",
    "# choose random value to start\n",
    "random.seed(2)\n",
    "theta = [1, random.random(),random.random()]\n",
    "\n",
    "w = minimize_stochastic(perceptron_error,\n",
    "                        perceptron_error_gradient,\n",
    "                        X,\n",
    "                        y,\n",
    "                        theta,\n",
    "                        0.1)\n",
    "\n",
    "shade_decision_region(X, y, w, x_min=-1, x_max=2, y_min=-1, y_max=2)"
   ]
  },
  {
   "cell_type": "markdown",
   "metadata": {
    "id": "q_FbnUL9a8Py"
   },
   "source": [
    "#### Your output must be similar to the following:\n",
    "\n",
    "![image.png](attachment:image.png)"
   ]
  },
  {
   "cell_type": "markdown",
   "metadata": {
    "id": "CLkm8U0ma8Py"
   },
   "source": [
    "### Test Case 6: Two Clusters"
   ]
  },
  {
   "cell_type": "code",
   "execution_count": 119,
   "metadata": {
    "colab": {
     "base_uri": "https://localhost:8080/",
     "height": 430
    },
    "id": "4iVPW4yaa8Py",
    "outputId": "eeb65202-6a3d-4a5a-fb02-39396f81acee",
    "scrolled": false
   },
   "outputs": [
    {
     "data": {
      "image/png": "[encoded data removed]",
      "text/plain": [
       "<Figure size 640x480 with 1 Axes>"
      ]
     },
     "metadata": {},
     "output_type": "display_data"
    }
   ],
   "source": [
    "# DO NOT EDIT THIS CELL\n",
    "# RUN THIS CELL\n",
    "\n",
    "import matplotlib.pyplot as plt\n",
    "from sklearn.datasets import make_blobs\n",
    "import random\n",
    "\n",
    "Xs, ys = make_blobs(n_samples=1000, n_features=2, centers=2, cluster_std=0.5, random_state=0)\n",
    "Xs1 = np.hstack((np.ones((Xs.shape[0],1)), Xs))\n",
    "\n",
    "# choose random value to start\n",
    "random.seed(2)\n",
    "theta = [1, random.random(),random.random()]\n",
    "\n",
    "X = Xs1.tolist()\n",
    "y = (np.where(ys == 1, 1, -1)).tolist()\n",
    "\n",
    "w = minimize_stochastic(perceptron_error,\n",
    "                        perceptron_error_gradient,\n",
    "                        X,\n",
    "                        y,\n",
    "                        theta,\n",
    "                        0.1)\n",
    "\n",
    "shade_decision_region(X, y, w, x_min=-3, x_max=7, y_min=-3, y_max=7)"
   ]
  },
  {
   "cell_type": "markdown",
   "metadata": {
    "id": "g_v1B80da8Py"
   },
   "source": [
    "#### Your output must be similar to the following:\n",
    "\n",
    "![image.png](attachment:image.png)"
   ]
  },
  {
   "cell_type": "markdown",
   "metadata": {
    "id": "Lpqo0-tsa8Py"
   },
   "source": [
    "### Test Case 7: Two Big Clusters"
   ]
  },
  {
   "cell_type": "code",
   "execution_count": 120,
   "metadata": {
    "colab": {
     "base_uri": "https://localhost:8080/",
     "height": 466
    },
    "id": "_hiU82lta8Py",
    "outputId": "f827fac5-3476-4e3d-e2f5-bd37a9d8fc9f",
    "scrolled": false
   },
   "outputs": [
    {
     "data": {
      "image/png": "[encoded data removed]",
      "text/plain": [
       "<Figure size 640x480 with 1 Axes>"
      ]
     },
     "metadata": {},
     "output_type": "display_data"
    },
    {
     "name": "stdout",
     "output_type": "stream",
     "text": [
      "Total time taken : 75.69097971916199 seconds\n",
      "My point is 10\n"
     ]
    }
   ],
   "source": [
    "# DO NOT EDIT THIS CELL\n",
    "# RUN THIS CELL\n",
    "\n",
    "import matplotlib.pyplot as plt\n",
    "from sklearn.datasets import make_blobs\n",
    "import random\n",
    "import time\n",
    "\n",
    "Xs, ys = make_blobs(n_samples=100000, n_features=2, centers=2, cluster_std=0.5, random_state=0)\n",
    "Xs1 = np.hstack((np.ones((Xs.shape[0],1)), Xs))\n",
    "\n",
    "# choose random value to start\n",
    "random.seed(2)\n",
    "theta = [1, random.random(),random.random()]\n",
    "\n",
    "X = Xs1.tolist()\n",
    "y = (np.where(ys == 1, 1, -1)).tolist()\n",
    "\n",
    "start = time.time()\n",
    "w = minimize_stochastic(perceptron_error,\n",
    "                        perceptron_error_gradient,\n",
    "                        X,\n",
    "                        y,\n",
    "                        theta,\n",
    "                        0.1)\n",
    "end = time.time()\n",
    "\n",
    "shade_decision_region(X, y, w, x_min=-3, x_max=7, y_min=-3, y_max=7)\n",
    "\n",
    "lapse = end - start\n",
    "total = 10\n",
    "weight = 1.5\n",
    "grace = 100.0\n",
    "my_point = int(total / (weight ** (lapse // grace)))\n",
    "print(f'Total time taken : {lapse} seconds')\n",
    "print(f'My point is {my_point}')"
   ]
  },
  {
   "cell_type": "markdown",
   "metadata": {
    "id": "ua49IKc-a8Pz"
   },
   "source": [
    "#### Your output must be similar to the following:\n",
    "\n",
    "![image.png](attachment:image.png)"
   ]
  },
  {
   "cell_type": "markdown",
   "metadata": {
    "id": "LrJR7Q5da8Pz"
   },
   "source": [
    "## Ethics:\n",
    "If you cheat, you will get negatgive of the total points.\n",
    "If the homework total is 22 and you cheat, you get -22."
   ]
  },
  {
   "cell_type": "markdown",
   "metadata": {
    "id": "8uUkw7Tja8Pz"
   },
   "source": [
    "## What to submit\n",
    "\n",
    "- Run **all cells** after restarting the kernel\n",
    "- Goto \"File -> Print Preview\"\n",
    "- Print the page as pdf\n",
    "- Pdf file name must be in a form of: homework_3_홍길동_202200001.pdf\n",
    "- Submit the pdf file in google classroom\n",
    "- No late homeworks will be accepted\n",
    "- Your homework will be graded on the basis of correctness, performance, and programming skills"
   ]
  }
 ],
 "metadata": {
  "colab": {
   "provenance": []
  },
  "hide_input": false,
  "kernelspec": {
   "display_name": "Python 3 (ipykernel)",
   "language": "python",
   "name": "python3"
  },
  "language_info": {
   "codemirror_mode": {
    "name": "ipython",
    "version": 3
   },
   "file_extension": ".py",
   "mimetype": "text/x-python",
   "name": "python",
   "nbconvert_exporter": "python",
   "pygments_lexer": "ipython3",
   "version": "3.10.7"
  },
  "varInspector": {
   "cols": {
    "lenName": 16,
    "lenType": 16,
    "lenVar": 40
   },
   "kernels_config": {
    "python": {
     "delete_cmd_postfix": "",
     "delete_cmd_prefix": "del ",
     "library": "var_list.py",
     "varRefreshCmd": "print(var_dic_list())"
    },
    "r": {
     "delete_cmd_postfix": ") ",
     "delete_cmd_prefix": "rm(",
     "library": "var_list.r",
     "varRefreshCmd": "cat(var_dic_list()) "
    }
   },
   "types_to_exclude": [
    "module",
    "function",
    "builtin_function_or_method",
    "instance",
    "_Feature"
   ],
   "window_display": false
  }
 },
 "nbformat": 4,
 "nbformat_minor": 1
}
